{
  "nbformat": 4,
  "nbformat_minor": 0,
  "metadata": {
    "colab": {
      "name": "Week 3.ipynb",
      "provenance": [],
      "authorship_tag": "ABX9TyP6Y8Di65SOJ5hjhL3aVOoN",
      "include_colab_link": true
    },
    "kernelspec": {
      "name": "python3",
      "display_name": "Python 3"
    },
    "language_info": {
      "name": "python"
    }
  },
  "cells": [
    {
      "cell_type": "markdown",
      "metadata": {
        "id": "view-in-github",
        "colab_type": "text"
      },
      "source": [
        "<a href=\"https://colab.research.google.com/github/Kaustubhgorhe/Celebal-Week3-Assignment/blob/main/Week_3.ipynb\" target=\"_parent\"><img src=\"https://colab.research.google.com/assets/colab-badge.svg\" alt=\"Open In Colab\"/></a>"
      ]
    },
    {
      "cell_type": "markdown",
      "source": [
        "**Membership(in, not in)List**"
      ],
      "metadata": {
        "id": "z0saNybIT0Jt"
      }
    },
    {
      "cell_type": "code",
      "source": [
        "a = 10\n",
        "list = [5,10,15,20,25]\n",
        "print(a in list)"
      ],
      "metadata": {
        "colab": {
          "base_uri": "https://localhost:8080/"
        },
        "id": "AvHXpS-XT9hB",
        "outputId": "6c1fb9a2-a0b4-4f35-9132-170d02a8bf57"
      },
      "execution_count": null,
      "outputs": [
        {
          "output_type": "stream",
          "name": "stdout",
          "text": [
            "True\n"
          ]
        }
      ]
    },
    {
      "cell_type": "code",
      "source": [
        "a = 30\n",
        "list = [5,10,15,20,25]\n",
        "print(a not in list)"
      ],
      "metadata": {
        "colab": {
          "base_uri": "https://localhost:8080/"
        },
        "id": "BiQOp47QUpes",
        "outputId": "8ea4be3f-84b7-437e-954e-8a8bcae851af"
      },
      "execution_count": null,
      "outputs": [
        {
          "output_type": "stream",
          "name": "stdout",
          "text": [
            "True\n"
          ]
        }
      ]
    },
    {
      "cell_type": "markdown",
      "source": [
        "**Membership(in, not in)Tuples**"
      ],
      "metadata": {
        "id": "573Nn2hcVENj"
      }
    },
    {
      "cell_type": "code",
      "source": [
        "a = (1,2,3,4,5)\n",
        "print('6 is in my a:',6 in a)\n"
      ],
      "metadata": {
        "colab": {
          "base_uri": "https://localhost:8080/"
        },
        "id": "2fGUD4feVYTv",
        "outputId": "3d52842a-feb2-44b3-9819-4352e078e430"
      },
      "execution_count": null,
      "outputs": [
        {
          "output_type": "stream",
          "name": "stdout",
          "text": [
            "6 is in my a: False\n"
          ]
        }
      ]
    },
    {
      "cell_type": "code",
      "source": [
        "a=(1,2,3,4,5)\n",
        "print('6 is not in a',6 not in a)"
      ],
      "metadata": {
        "colab": {
          "base_uri": "https://localhost:8080/"
        },
        "id": "2G8a9JtLY_4m",
        "outputId": "53f2ba71-d161-4c08-9e52-89e72b9a0d5d"
      },
      "execution_count": null,
      "outputs": [
        {
          "output_type": "stream",
          "name": "stdout",
          "text": [
            "6 is not in a True\n"
          ]
        }
      ]
    },
    {
      "cell_type": "markdown",
      "source": [
        "**Membership(in ,not in)Set**"
      ],
      "metadata": {
        "id": "ogtSJ9r3ZipA"
      }
    },
    {
      "cell_type": "code",
      "source": [
        "a={2,4,6,8,10}\n",
        "print(3 in a)"
      ],
      "metadata": {
        "colab": {
          "base_uri": "https://localhost:8080/"
        },
        "id": "cgtWH7AFZvxO",
        "outputId": "77a89159-ef12-4dbf-d521-46f5a5c90e8f"
      },
      "execution_count": null,
      "outputs": [
        {
          "output_type": "stream",
          "name": "stdout",
          "text": [
            "False\n"
          ]
        }
      ]
    },
    {
      "cell_type": "code",
      "source": [
        "a={1,3,5,7,9}\n",
        "print(4 not in a)"
      ],
      "metadata": {
        "colab": {
          "base_uri": "https://localhost:8080/"
        },
        "id": "LPwIUeEsahjO",
        "outputId": "7bbdda51-f6fc-466d-9d50-28ef63388cf2"
      },
      "execution_count": null,
      "outputs": [
        {
          "output_type": "stream",
          "name": "stdout",
          "text": [
            "True\n"
          ]
        }
      ]
    },
    {
      "cell_type": "markdown",
      "source": [
        "**Membership(in, not in)Dictionary**"
      ],
      "metadata": {
        "id": "JnB0RZuXei2f"
      }
    },
    {
      "cell_type": "code",
      "source": [
        "a={\"Kaustubh\", \"Amol\", \"Gorhe\"}\n",
        "b=(\"Firstname\",\"secondname\",\"Lastname\")\n",
        "print(\"Kaustubh\" in a)\n",
        "print(\"Lastname\" in a)"
      ],
      "metadata": {
        "colab": {
          "base_uri": "https://localhost:8080/"
        },
        "id": "LwtN06SYesu1",
        "outputId": "7ec4bc6e-02da-4363-b7e3-3be7051582ee"
      },
      "execution_count": null,
      "outputs": [
        {
          "output_type": "stream",
          "name": "stdout",
          "text": [
            "True\n",
            "False\n"
          ]
        }
      ]
    },
    {
      "cell_type": "markdown",
      "source": [
        "**Indexing List**"
      ],
      "metadata": {
        "id": "uxpIEyGQiBHZ"
      }
    },
    {
      "cell_type": "code",
      "source": [
        "my_list=[\"Kaustubh\",\"Amol\",\"Gorhe\"]\n",
        "print(my_list.index(\"Gorhe\"))"
      ],
      "metadata": {
        "colab": {
          "base_uri": "https://localhost:8080/"
        },
        "id": "2ZqhJL4RiEzu",
        "outputId": "5a7e04ce-ca80-4ea2-c858-cc53df45e0f2"
      },
      "execution_count": null,
      "outputs": [
        {
          "output_type": "stream",
          "name": "stdout",
          "text": [
            "2\n"
          ]
        }
      ]
    },
    {
      "cell_type": "markdown",
      "source": [
        "**Indexing Tuples**"
      ],
      "metadata": {
        "id": "gg9bRYWjixD2"
      }
    },
    {
      "cell_type": "code",
      "source": [
        "a=(1,2,3,4)\n",
        "print(a.index(4))"
      ],
      "metadata": {
        "colab": {
          "base_uri": "https://localhost:8080/"
        },
        "id": "EMEm1aeOi0if",
        "outputId": "a5abc092-427b-4e9b-e987-45d66cac8d83"
      },
      "execution_count": null,
      "outputs": [
        {
          "output_type": "stream",
          "name": "stdout",
          "text": [
            "3\n"
          ]
        }
      ]
    },
    {
      "cell_type": "markdown",
      "source": [
        "**Indexing Dictionary**"
      ],
      "metadata": {
        "id": "DZPoeWW4jM5e"
      }
    },
    {
      "cell_type": "code",
      "source": [
        "dict={}\n",
        "dict[\"K\"]=1\n",
        "dict[\"a\"]=2\n",
        "dict[\"u\"]=3\n",
        "dict[\"s\"]=4\n",
        "dict[\"t\"]=5\n",
        "dict[\"u\"]=6\n",
        "dict[\"b\"]=7\n",
        "dict[\"h\"]=8\n",
        "a=list(dict.items())\n",
        "print(a[3])\n",
        "\n"
      ],
      "metadata": {
        "id": "PADVGdp9jRsy",
        "colab": {
          "base_uri": "https://localhost:8080/"
        },
        "outputId": "61297f76-c4db-430e-e601-f6ce01c4fdfa"
      },
      "execution_count": 2,
      "outputs": [
        {
          "output_type": "stream",
          "name": "stdout",
          "text": [
            "('s', 4)\n"
          ]
        }
      ]
    }
  ]
}